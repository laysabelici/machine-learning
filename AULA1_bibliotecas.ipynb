{
  "nbformat": 4,
  "nbformat_minor": 0,
  "metadata": {
    "colab": {
      "provenance": [],
      "authorship_tag": "ABX9TyNusz/IZF+t0jQMUAUQidY5",
      "include_colab_link": true
    },
    "kernelspec": {
      "name": "python3",
      "display_name": "Python 3"
    },
    "language_info": {
      "name": "python"
    }
  },
  "cells": [
    {
      "cell_type": "markdown",
      "metadata": {
        "id": "view-in-github",
        "colab_type": "text"
      },
      "source": [
        "<a href=\"https://colab.research.google.com/github/laysabelici/machine-learning/blob/main/AULA1_bibliotecas.ipynb\" target=\"_parent\"><img src=\"https://colab.research.google.com/assets/colab-badge.svg\" alt=\"Open In Colab\"/></a>"
      ]
    },
    {
      "cell_type": "code",
      "execution_count": 2,
      "metadata": {
        "colab": {
          "base_uri": "https://localhost:8080/"
        },
        "id": "8j0QZrKSO22I",
        "outputId": "0c3fdf1c-3af2-4870-c0a8-e70e37eb3775"
      },
      "outputs": [
        {
          "output_type": "stream",
          "name": "stdout",
          "text": [
            "Requirement already satisfied: plotly in /usr/local/lib/python3.10/dist-packages (5.15.0)\n",
            "Collecting plotly\n",
            "  Downloading plotly-5.16.1-py2.py3-none-any.whl (15.6 MB)\n",
            "\u001b[2K     \u001b[90m━━━━━━━━━━━━━━━━━━━━━━━━━━━━━━━━━━━━━━━━\u001b[0m \u001b[32m15.6/15.6 MB\u001b[0m \u001b[31m32.3 MB/s\u001b[0m eta \u001b[36m0:00:00\u001b[0m\n",
            "\u001b[?25hRequirement already satisfied: tenacity>=6.2.0 in /usr/local/lib/python3.10/dist-packages (from plotly) (8.2.3)\n",
            "Requirement already satisfied: packaging in /usr/local/lib/python3.10/dist-packages (from plotly) (23.1)\n",
            "Installing collected packages: plotly\n",
            "  Attempting uninstall: plotly\n",
            "    Found existing installation: plotly 5.15.0\n",
            "    Uninstalling plotly-5.15.0:\n",
            "      Successfully uninstalled plotly-5.15.0\n",
            "Successfully installed plotly-5.16.1\n"
          ]
        }
      ],
      "source": [
        "#BIBLIOTECA PARA GRÁFICOS DINAMICOS\n",
        "!pip install plotly --upgrade"
      ]
    },
    {
      "cell_type": "code",
      "source": [
        "#BIBLIOTECA PARA CARREGAMENTO DE ARQUIVOS, DATAFRAMES\n",
        "import pandas as pd\n",
        "\n",
        "#FUNÇÕES MATEMATICAS EM GRANDE ESCALA\n",
        "import numpy as np\n",
        "\n",
        "#PARA VISUALIZAÇÕES ESTATISTICAS E INFORMATIVAS\n",
        "import seaborn as sns\n",
        "\n",
        "#PARA GRAFICOS ESTATISTICOS, INTERATIVOS E ANIMADOS\n",
        "import matplotlib.pyplot as plt\n",
        "\n",
        "#VISUALIZAÇÕES DE GRAFICOS COMPLEXOS\n",
        "import plotly.express as px"
      ],
      "metadata": {
        "id": "vnAF0tDJP3b6"
      },
      "execution_count": 4,
      "outputs": []
    },
    {
      "cell_type": "code",
      "source": [],
      "metadata": {
        "id": "YOhitsFtQVtJ"
      },
      "execution_count": null,
      "outputs": []
    }
  ]
}